{
 "cells": [
  {
   "cell_type": "markdown",
   "id": "83a96d18-1f34-490a-94a6-4f20dcde3187",
   "metadata": {},
   "source": [
    "## Q1. What is Lasso Regression, and how does it differ from other regression techniques?"
   ]
  },
  {
   "cell_type": "markdown",
   "id": "b0532b4e-e1b9-40fa-8f4e-2052c7f77fb8",
   "metadata": {},
   "source": [
    " Lasso regression is a type of regression analysis that includes a penalty term to the sum of absolute values of the model's coefficients. \n",
    "         This encourages the model to reduce the magnitude of less important coefficients to zero, resulting in feature selection. \n",
    "         Lasso differs from other regression techniques like Ridge regression, which penalizes the sum of squared coefficients"
   ]
  },
  {
   "cell_type": "markdown",
   "id": "f9e37378-b115-4504-99e6-388ee9d8984d",
   "metadata": {},
   "source": [
    "## Q2. What is the main advantage of using Lasso Regression in feature selection?"
   ]
  },
  {
   "cell_type": "markdown",
   "id": "208edd62-7c3c-44b4-a0cd-a25805dafddb",
   "metadata": {},
   "source": [
    " Lasso regression can perform feature selection by shrinking the coefficients of less important features to zero. \n",
    "         This means that Lasso can identify the most important features for predicting the outcome variable and remove the less important ones, \n",
    "         which can improve the model's performance and interpretability."
   ]
  },
  {
   "cell_type": "markdown",
   "id": "fe2a3682-10d6-45f4-bf9b-ce121630b8f9",
   "metadata": {},
   "source": [
    "## Q3. How do you interpret the coefficients of a Lasso Regression model?"
   ]
  },
  {
   "cell_type": "markdown",
   "id": "7f9bc0f5-e400-4f1e-9575-c1ff55021e65",
   "metadata": {},
   "source": [
    "In Lasso regression, the coefficients represent the strength and direction of the relationship between the independent variables and the dependent variable. \n",
    "         A positive coefficient indicates a positive relationship, while a negative coefficient indicates a negative relationship. \n",
    "         The magnitude of the coefficient represents the strength of the relationship. The coefficients in Lasso regression can also be interpreted as feature \n",
    "         importance or feature selection, where variables with non-zero coefficients are considered important predictors."
   ]
  },
  {
   "cell_type": "markdown",
   "id": "eba1ca89-3c91-4d3c-a953-63decbc9b2eb",
   "metadata": {},
   "source": [
    "## Q4. What are the tuning parameters that can be adjusted in Lasso Regression, and how do they affect the model's performance?"
   ]
  },
  {
   "cell_type": "markdown",
   "id": "96251996-debc-4e98-985e-5537e12a36da",
   "metadata": {},
   "source": [
    "In Lasso Regression, there is a tuning parameter called alpha that controls the strength of regularization. \n",
    "         A higher value of alpha results in a more restricted model with fewer features selected, while a lower value of alpha allows more features to be included in the model. \n",
    "         Thus, the choice of alpha should balance between model complexity and predictive accuracy."
   ]
  },
  {
   "cell_type": "markdown",
   "id": "d3a8b764-36ce-4254-92cf-d88c20fbd8ef",
   "metadata": {},
   "source": [
    "## Q5. Can Lasso Regression be used for non-linear regression problems? If yes, how?"
   ]
  },
  {
   "cell_type": "markdown",
   "id": "6a4d7c5d-0b06-4823-98de-43dd9eaab545",
   "metadata": {},
   "source": [
    "Lasso regression is primarily used for linear regression problems, but it can also be extended to non-linear regression"
   ]
  },
  {
   "cell_type": "markdown",
   "id": "3d2fa2e0-00cb-4e82-8f53-58244547a423",
   "metadata": {},
   "source": [
    "## Q6. What is the difference between Ridge Regression and Lasso Regression?"
   ]
  },
  {
   "cell_type": "markdown",
   "id": "7923457f-edef-4cfd-8b9e-149c908c4c55",
   "metadata": {},
   "source": [
    "Ridge and Lasso regression are two common techniques used in machine learning to reduce the impact of irrelevant or highly correlated features in a model. \n",
    "         Ridge regression shrinks the regression coefficients towards zero, while Lasso regression can shrink coefficients to exactly zero, effectively removing \n",
    "         features from the model."
   ]
  },
  {
   "cell_type": "markdown",
   "id": "a4c621a0-9cf3-4180-a616-03921d46b7bd",
   "metadata": {},
   "source": [
    "## Q7. Can Lasso Regression handle multicollinearity in the input features? If yes, how?"
   ]
  },
  {
   "cell_type": "markdown",
   "id": "6b5a2912-4597-4e2b-aa9d-f8abd8dcda12",
   "metadata": {},
   "source": [
    " Yes, Lasso Regression can handle multicollinearity in the input features by introducing a penalty term that shrinks the regression coefficients towards zero, \n",
    "         effectively selecting only the most important features. This penalty term encourages the coefficients of correlated features to be close to each other or zero.\n"
   ]
  },
  {
   "cell_type": "markdown",
   "id": "118551fc-4539-46bb-8439-8a7b3610a816",
   "metadata": {},
   "source": [
    "## Q8. How do you choose the optimal value of the regularization parameter (lambda) in Lasso Regression?\n"
   ]
  },
  {
   "cell_type": "markdown",
   "id": "cfb747cf-d718-4087-a391-30ed5323c71e",
   "metadata": {},
   "source": [
    "To choose the optimal value of the regularization parameter lambda in Lasso Regression, one can use cross-validation to evaluate different values of lambda and \n",
    "         select the one that gives the best balance between model complexity and accuracy. Essentially, you want to find the value of lambda that minimizes the error of \n",
    "         the model while also preventing overfitting."
   ]
  },
  {
   "cell_type": "code",
   "execution_count": null,
   "id": "04f9f6da-62e9-4622-b786-2214ddbc9453",
   "metadata": {},
   "outputs": [],
   "source": []
  }
 ],
 "metadata": {
  "kernelspec": {
   "display_name": "Python 3 (ipykernel)",
   "language": "python",
   "name": "python3"
  },
  "language_info": {
   "codemirror_mode": {
    "name": "ipython",
    "version": 3
   },
   "file_extension": ".py",
   "mimetype": "text/x-python",
   "name": "python",
   "nbconvert_exporter": "python",
   "pygments_lexer": "ipython3",
   "version": "3.10.8"
  }
 },
 "nbformat": 4,
 "nbformat_minor": 5
}
